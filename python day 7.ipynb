{
 "cells": [
  {
   "cell_type": "code",
   "execution_count": 3,
   "id": "34d5d93e-5286-455c-9a02-9b9e6f9ea72d",
   "metadata": {},
   "outputs": [],
   "source": [
    "# a virtual enviorment is a tool that used to isolate specfic python enviorment on a single machine,\n",
    "# allowing you to work on multiple projects with dependencies and packages without conflict,\n",
    "# this can be especially used hen working on projects that have conflicting package version or  package that are not compatible with each other\n",
    "# to create virtual enviorment in python  we have a module that comes with python \n",
    "# create a virtual enviorment\n",
    " python -m venv myvenv\n",
    "# virtual enviorment activate in windows\n",
    "myenv\\scripts\\activate.bat\n",
    "# once yo create a virtual enviorment is activated now you can install any package using pip that will install in your virtual enviorment \n",
    "# not in globalpython that will not affect to your other projects\n",
    "# deactivate the virtual enviorment with below commandd\n",
    " deactivate\n",
    "\n"
   ]
  },
  {
   "cell_type": "code",
   "execution_count": 5,
   "id": "36b685d7-3b96-47e2-aeef-6e9b76de627c",
   "metadata": {},
   "outputs": [
    {
     "name": "stdout",
     "output_type": "stream",
     "text": [
      "3.0\n"
     ]
    }
   ],
   "source": [
    "# how to import works in python\n",
    "# importing in python means the loading the code of any module in your current scripts,you can use all the functions and variable of that module \n",
    "# in your current scripts,as well as any additional module that imported module depends on\n",
    "# for importing the module in current scripts yo use import statments with module name\n",
    "import math\n",
    "# math is the module name and sqrt() is function which written in math module\n",
    "result=math.sqrt(9)\n",
    "print(result\n"
   ]
  },
  {
   "cell_type": "code",
   "execution_count": 8,
   "id": "dc2c00b0-cb5d-4e0e-a091-5f3e39383910",
   "metadata": {},
   "outputs": [
    {
     "name": "stdout",
     "output_type": "stream",
     "text": [
      "8103.083927575384\n",
      "3.0\n"
     ]
    }
   ],
   "source": [
    "# if we want to import any specfic function from any module we use from keyword\n",
    "from math import exp,sqrt\n",
    "im=math.exp(9)\n",
    "im1=math.sqrt(9)\n",
    "print(im)\n",
    "print(im1)\n"
   ]
  },
  {
   "cell_type": "code",
   "execution_count": 9,
   "id": "535867f1-802e-4b32-ae2f-e9ae02e5e424",
   "metadata": {},
   "outputs": [],
   "source": [
    "# if we want to import all the functions and variable we do\n",
    "from math import *\n",
    "# now all the math functions and variable are imported\n",
    "# but it is not recommended generall"
   ]
  },
  {
   "cell_type": "code",
   "execution_count": 10,
   "id": "a6565691-9300-4ace-a5da-a6955da50a76",
   "metadata": {},
   "outputs": [],
   "source": [
    "# now we can use m instead of compelet math statement using as keyord this do alias\n",
    "import math as m"
   ]
  },
  {
   "cell_type": "code",
   "execution_count": 11,
   "id": "821018e9-d70a-4ced-8d15-2a463ffaabfc",
   "metadata": {},
   "outputs": [
    {
     "name": "stdout",
     "output_type": "stream",
     "text": [
      "['__doc__', '__loader__', '__name__', '__package__', '__spec__', 'acos', 'acosh', 'asin', 'asinh', 'atan', 'atan2', 'atanh', 'cbrt', 'ceil', 'comb', 'copysign', 'cos', 'cosh', 'degrees', 'dist', 'e', 'erf', 'erfc', 'exp', 'exp2', 'expm1', 'fabs', 'factorial', 'floor', 'fmod', 'frexp', 'fsum', 'gamma', 'gcd', 'hypot', 'inf', 'isclose', 'isfinite', 'isinf', 'isnan', 'isqrt', 'lcm', 'ldexp', 'lgamma', 'log', 'log10', 'log1p', 'log2', 'modf', 'nan', 'nextafter', 'perm', 'pi', 'pow', 'prod', 'radians', 'remainder', 'sin', 'sinh', 'sqrt', 'tan', 'tanh', 'tau', 'trunc', 'ulp']\n"
     ]
    }
   ],
   "source": [
    "# python has built in function dir we can use it see all the function and variabels of any module\n",
    "import math\n",
    "print(dir(math))"
   ]
  },
  {
   "cell_type": "code",
   "execution_count": 27,
   "id": "b62cd6dc-f97f-452d-bfd0-1b5355881126",
   "metadata": {},
   "outputs": [],
   "source": [
    "# os module in python\n",
    "# os module nteract with operating system,its allowed you to wide variety of tasks like open,reading, writing the file,\n",
    "# interacting with the file system, and running system commands,os module provide functions like opening,reading,writing files\n",
    "# to open the file first we write file name and then mode like for read r,for write w,and append a means want to add something at the end of file data \n",
    "import os\n",
    "# f=open('text.txt','r')\n",
    "# # if we want to read the data of file\n",
    "# text=f.read()\n",
    "# print(text)\n",
    "# f.close()\n",
    "# f=open('text.txt','w')\n",
    "# # if we want to write data in the file\n",
    "# text=f.write('Hello world')\n",
    "# print(text)\n",
    "# f.close()\n",
    "# f=open('text.txt','a')\n",
    "# # if we want to append the data of file(it will add at the end of previous data\n",
    "# f.write('Hello world')\n",
    "# print(text)\n",
    "# f.close()\n",
    "# when we use with statment then donot need to close the file\n",
    "# with open('text.txt','a') as f:\n",
    "#     f.write('hello')\n"
   ]
  },
  {
   "cell_type": "code",
   "execution_count": 13,
   "id": "c866c6bc-bcf5-4a2a-aaba-92adc9d2c898",
   "metadata": {},
   "outputs": [
    {
     "name": "stdout",
     "output_type": "stream",
     "text": [
      "Global x = 4\n",
      "Local x = 5\n",
      "First Y print  10\n",
      "now we create local y as global y so when function will called it will ccahange its value 12\n",
      "First Y print  12\n"
     ]
    }
   ],
   "source": [
    "# local and global variable\n",
    "# global variable is defined outside the function and it is used and accessable at any place of code \n",
    "# local variable is defined with in function it is accessable with in the function only its created when its called and destroyed when return value\n",
    "x=4\n",
    "def hello():\n",
    "    x=5\n",
    "    return x\n",
    "print('Global x =',x)  \n",
    "lx=hello()\n",
    "print('Local x =',lx)  \n",
    "# global key word used with in the fnction to create local variable as global var and it can accessed at any place of code and comes in global scope\n",
    "\n",
    "y=10\n",
    "print('First Y print ',y)\n",
    "def hello2():\n",
    "    global y\n",
    "    y=12\n",
    "    print('now we create local y as global y so when function will called it will ccahange its value',y)\n",
    "hello2()\n",
    "print('Second Y print ',y)\n",
    "\n",
    "\n"
   ]
  },
  {
   "cell_type": "code",
   "execution_count": 34,
   "id": "fa4aa511-9854-4c41-a949-b0eb14859112",
   "metadata": {},
   "outputs": [
    {
     "name": "stdout",
     "output_type": "stream",
     "text": [
      "without lambda double 10\n",
      "with lambda double 10\n",
      " average :  9.0\n"
     ]
    }
   ],
   "source": [
    "# lambda functions n python\n",
    "# lambda function is small anonymus function which is defined without name\n",
    "# syntax: lambda x(argument):x*2(expression)\n",
    "def double(x):\n",
    "    return x*2\n",
    "d=double(5)    \n",
    "print('without lambda double',d)\n",
    "# now the above same process we do with lambda\n",
    "double2=lambda x:x*2\n",
    "d1=double2(5)\n",
    "print('with lambda double',d1)\n",
    "# average function with lambda\n",
    "avg=lambda x,y,z:x+y+z/3\n",
    "la=avg(4,3,6)\n",
    "print(' average : ' ,la)"
   ]
  },
  {
   "cell_type": "code",
   "execution_count": null,
   "id": "e9d054ca-ea0f-4114-9017-ff1006fbd55e",
   "metadata": {},
   "outputs": [],
   "source": []
  },
  {
   "cell_type": "code",
   "execution_count": null,
   "id": "5619269e-5006-4f72-b409-01ca5ade195c",
   "metadata": {},
   "outputs": [],
   "source": []
  }
 ],
 "metadata": {
  "kernelspec": {
   "display_name": "Python 3 (ipykernel)",
   "language": "python",
   "name": "python3"
  },
  "language_info": {
   "codemirror_mode": {
    "name": "ipython",
    "version": 3
   },
   "file_extension": ".py",
   "mimetype": "text/x-python",
   "name": "python",
   "nbconvert_exporter": "python",
   "pygments_lexer": "ipython3",
   "version": "3.11.7"
  }
 },
 "nbformat": 4,
 "nbformat_minor": 5
}
